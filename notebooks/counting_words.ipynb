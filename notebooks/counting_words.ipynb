{
 "cells": [
  {
   "cell_type": "code",
   "execution_count": 13,
   "id": "01d20aee",
   "metadata": {},
   "outputs": [],
   "source": [
    "import re\n",
    "import os"
   ]
  },
  {
   "cell_type": "code",
   "execution_count": 14,
   "id": "e0cc48db",
   "metadata": {},
   "outputs": [],
   "source": [
    "# change working directory to the /Users/tildeidunsloth/Desktop/DatSci_25/DatSci_25\n",
    "os.chdir('/Users/tildeidunsloth/Desktop/DatSci_25/DatSci25')\n",
    "# Set the path to the folder containing the transcript files\n",
    "folder_path = 'data/cleaned'"
   ]
  },
  {
   "cell_type": "code",
   "execution_count": 24,
   "id": "af5b9970",
   "metadata": {},
   "outputs": [
    {
     "name": "stdout",
     "output_type": "stream",
     "text": [
      "Year: 2000, 'klima' count: 75\n",
      "Year: 2001, 'klima' count: 26\n",
      "Year: 2002, 'klima' count: 51\n",
      "Year: 2003, 'klima' count: 28\n",
      "Year: 2004, 'klima' count: 41\n",
      "Year: 2005, 'klima' count: 33\n",
      "Year: 2006, 'klima' count: 85\n",
      "Year: 2007, 'klima' count: 555\n",
      "Year: 2008, 'klima' count: 734\n",
      "Year: 2009, 'klima' count: 880\n",
      "Year: 2010, 'klima' count: 409\n",
      "Year: 2011, 'klima' count: 335\n",
      "Year: 2012, 'klima' count: 307\n",
      "Year: 2013, 'klima' count: 349\n",
      "Year: 2014, 'klima' count: 386\n",
      "Year: 2015, 'klima' count: 253\n",
      "Year: 2016, 'klima' count: 202\n",
      "Year: 2017, 'klima' count: 167\n",
      "Year: 2018, 'klima' count: 266\n",
      "Year: 2019, 'klima' count: 696\n",
      "Year: 2020, 'klima' count: 700\n",
      "Year: 2021, 'klima' count: 743\n",
      "Year: 2022, 'klima' count: 767\n",
      "Year: 2023, 'klima' count: 703\n",
      "Year: 2024, 'klima' count: 720\n"
     ]
    }
   ],
   "source": [
    "# count amount of times the word \"klima\" appears for each year\n",
    "klima_count = {}\n",
    "\n",
    "# loop through each year folder\n",
    "for year in os.listdir(folder_path):\n",
    "    year_path = os.path.join(folder_path, year)\n",
    "    if os.path.isdir(year_path):\n",
    "        # Initialize the count for this year\n",
    "        klima_count[year] = 0\n",
    "        # loop through each transcript file in the year folder\n",
    "        for filename in os.listdir(year_path):\n",
    "            if filename.endswith('.txt'):\n",
    "                file_path = os.path.join(year_path, filename)\n",
    "                # Read the content of the file\n",
    "                with open(file_path, 'r', encoding='utf-8') as file:\n",
    "                    content = file.read()\n",
    "                    # Count occurrences of \"klima\" (case insensitive)\n",
    "                    klima_count[year] += len(re.findall(r'\\bklima\\b', content, re.IGNORECASE))\n",
    "\n",
    "# Print the results in sorted order by year\n",
    "for year in sorted(klima_count.keys(), key=lambda x: int(x)):\n",
    "    count = klima_count[year]\n",
    "    print(f\"Year: {year}, 'klima' count: {count}\")"
   ]
  },
  {
   "cell_type": "code",
   "execution_count": 23,
   "id": "2200199b",
   "metadata": {},
   "outputs": [
    {
     "name": "stdout",
     "output_type": "stream",
     "text": [
      "Year: 2000, File count: 105\n",
      "Year: 2001, File count: 94\n",
      "Year: 2002, File count: 106\n",
      "Year: 2003, File count: 104\n",
      "Year: 2004, File count: 97\n",
      "Year: 2005, File count: 101\n",
      "Year: 2006, File count: 102\n",
      "Year: 2007, File count: 97\n",
      "Year: 2008, File count: 106\n",
      "Year: 2009, File count: 109\n",
      "Year: 2010, File count: 111\n",
      "Year: 2011, File count: 101\n",
      "Year: 2012, File count: 115\n",
      "Year: 2013, File count: 109\n",
      "Year: 2014, File count: 104\n",
      "Year: 2015, File count: 112\n",
      "Year: 2016, File count: 112\n",
      "Year: 2017, File count: 108\n",
      "Year: 2018, File count: 101\n",
      "Year: 2019, File count: 152\n",
      "Year: 2020, File count: 138\n",
      "Year: 2021, File count: 135\n",
      "Year: 2022, File count: 76\n",
      "Year: 2023, File count: 106\n",
      "Year: 2024, File count: 86\n"
     ]
    }
   ],
   "source": [
    "# count the number of files in each year folder\n",
    "file_count = {}\n",
    "# loop through each year folder again to count files\n",
    "for year in os.listdir(folder_path):\n",
    "    year_path = os.path.join(folder_path, year)\n",
    "    if os.path.isdir(year_path):\n",
    "        # Initialize the count for this year\n",
    "        file_count[year] = 0\n",
    "        # loop through each transcript file in the year folder\n",
    "        for filename in os.listdir(year_path):\n",
    "            if filename.endswith('.txt'):\n",
    "                file_count[year] += 1\n",
    "# Print the file counts for each year in sorted order\n",
    "for year in sorted(file_count.keys(), key=lambda x: int(x)):\n",
    "    count = file_count[year]\n",
    "    print(f\"Year: {year}, File count: {count}\")"
   ]
  },
  {
   "cell_type": "code",
   "execution_count": 22,
   "id": "8eef4811",
   "metadata": {},
   "outputs": [
    {
     "name": "stdout",
     "output_type": "stream",
     "text": [
      "Year: 2000, Token count: 5688671\n",
      "Year: 2001, Token count: 5960704\n",
      "Year: 2002, Token count: 6604292\n",
      "Year: 2003, Token count: 7047195\n",
      "Year: 2004, Token count: 6373366\n",
      "Year: 2005, Token count: 6149652\n",
      "Year: 2006, Token count: 6016453\n",
      "Year: 2007, Token count: 5216523\n",
      "Year: 2008, Token count: 6430455\n",
      "Year: 2009, Token count: 7322536\n",
      "Year: 2010, Token count: 5375256\n",
      "Year: 2011, Token count: 5597276\n",
      "Year: 2012, Token count: 5392487\n",
      "Year: 2013, Token count: 4562442\n",
      "Year: 2014, Token count: 4600947\n",
      "Year: 2015, Token count: 6204214\n",
      "Year: 2016, Token count: 6141629\n",
      "Year: 2017, Token count: 4858970\n",
      "Year: 2018, Token count: 4700369\n",
      "Year: 2019, Token count: 6137200\n",
      "Year: 2020, Token count: 7567697\n",
      "Year: 2021, Token count: 5379377\n",
      "Year: 2022, Token count: 4373928\n",
      "Year: 2023, Token count: 6208467\n",
      "Year: 2024, Token count: 4583027\n"
     ]
    }
   ],
   "source": [
    "# count amount of tokens per year\n",
    "token_count = {}\n",
    "# loop through each year folder again to count tokens   \n",
    "for year in os.listdir(folder_path):\n",
    "    year_path = os.path.join(folder_path, year)\n",
    "    if os.path.isdir(year_path):\n",
    "        # Initialize the count for this year\n",
    "        token_count[year] = 0\n",
    "        # loop through each transcript file in the year folder\n",
    "        for filename in os.listdir(year_path):\n",
    "            if filename.endswith('.txt'):\n",
    "                file_path = os.path.join(year_path, filename)\n",
    "                # Read the content of the file\n",
    "                with open(file_path, 'r', encoding='utf-8') as file:\n",
    "                    content = file.read()\n",
    "                    # Count tokens (words) in the content\n",
    "                    tokens = re.findall(r'\\b\\w+\\b', content)\n",
    "                    token_count[year] += len(tokens)\n",
    "# Print the token counts for each year in sorted order\n",
    "for year in sorted(token_count.keys(), key=lambda x: int(x)):\n",
    "    count = token_count[year]\n",
    "    print(f\"Year: {year}, Token count: {count}\")\n"
   ]
  },
  {
   "cell_type": "code",
   "execution_count": 21,
   "id": "61763a0f",
   "metadata": {},
   "outputs": [
    {
     "name": "stdout",
     "output_type": "stream",
     "text": [
      "Year: 2000, 'klima' per token count: 0.000013\n",
      "Year: 2001, 'klima' per token count: 0.000004\n",
      "Year: 2002, 'klima' per token count: 0.000008\n",
      "Year: 2003, 'klima' per token count: 0.000004\n",
      "Year: 2004, 'klima' per token count: 0.000006\n",
      "Year: 2005, 'klima' per token count: 0.000005\n",
      "Year: 2006, 'klima' per token count: 0.000014\n",
      "Year: 2007, 'klima' per token count: 0.000106\n",
      "Year: 2008, 'klima' per token count: 0.000114\n",
      "Year: 2009, 'klima' per token count: 0.000120\n",
      "Year: 2010, 'klima' per token count: 0.000076\n",
      "Year: 2011, 'klima' per token count: 0.000060\n",
      "Year: 2012, 'klima' per token count: 0.000057\n",
      "Year: 2013, 'klima' per token count: 0.000076\n",
      "Year: 2014, 'klima' per token count: 0.000084\n",
      "Year: 2015, 'klima' per token count: 0.000041\n",
      "Year: 2016, 'klima' per token count: 0.000033\n",
      "Year: 2017, 'klima' per token count: 0.000034\n",
      "Year: 2018, 'klima' per token count: 0.000057\n",
      "Year: 2019, 'klima' per token count: 0.000113\n",
      "Year: 2020, 'klima' per token count: 0.000092\n",
      "Year: 2021, 'klima' per token count: 0.000138\n",
      "Year: 2022, 'klima' per token count: 0.000175\n",
      "Year: 2023, 'klima' per token count: 0.000113\n",
      "Year: 2024, 'klima' per token count: 0.000157\n"
     ]
    }
   ],
   "source": [
    "# klima count per token count per year\n",
    "klima_per_token = {}\n",
    "# loop through each year folder again to calculate klima per token\n",
    "for year in os.listdir(folder_path):\n",
    "    year_path = os.path.join(folder_path, year)\n",
    "    if os.path.isdir(year_path):\n",
    "        # Initialize the count for this year\n",
    "        klima_per_token[year] = 0\n",
    "        # Calculate klima per token for this year\n",
    "        if token_count[year] > 0:\n",
    "            klima_per_token[year] = klima_count[year] / token_count[year]\n",
    "        else:\n",
    "            klima_per_token[year] = 0\n",
    "# Print the klima per token counts for each year in sorted order\n",
    "for year in sorted(klima_per_token.keys()):\n",
    "    count = klima_per_token[year]\n",
    "    print(f\"Year: {year}, 'klima' per token count: {count:.6f}\")"
   ]
  }
 ],
 "metadata": {
  "kernelspec": {
   "display_name": "base",
   "language": "python",
   "name": "python3"
  },
  "language_info": {
   "codemirror_mode": {
    "name": "ipython",
    "version": 3
   },
   "file_extension": ".py",
   "mimetype": "text/x-python",
   "name": "python",
   "nbconvert_exporter": "python",
   "pygments_lexer": "ipython3",
   "version": "3.8.5"
  }
 },
 "nbformat": 4,
 "nbformat_minor": 5
}
