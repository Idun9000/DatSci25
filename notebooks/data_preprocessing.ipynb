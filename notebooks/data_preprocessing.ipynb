{
 "cells": [
  {
   "cell_type": "code",
   "execution_count": 95,
   "id": "eab2bdd1",
   "metadata": {},
   "outputs": [],
   "source": [
    "import pandas as pd\n",
    "import numpy as np\n",
    "import os"
   ]
  },
  {
   "cell_type": "code",
   "execution_count": 96,
   "id": "276b3269",
   "metadata": {},
   "outputs": [],
   "source": [
    "# set wd\n",
    "os.chdir('/Users/tildeidunsloth/Desktop/DatSci_25')"
   ]
  },
  {
   "cell_type": "code",
   "execution_count": 97,
   "id": "e5bc607f",
   "metadata": {},
   "outputs": [],
   "source": [
    "# import the data\n",
    "df = pd.read_csv('data/raw/supermarket_sales.csv')"
   ]
  },
  {
   "cell_type": "code",
   "execution_count": 98,
   "id": "f009f366",
   "metadata": {},
   "outputs": [
    {
     "name": "stdout",
     "output_type": "stream",
     "text": [
      "Invoice ID                  object\n",
      "Branch                      object\n",
      "City                        object\n",
      "Customer type               object\n",
      "Gender                      object\n",
      "Product line                object\n",
      "Unit price                 float64\n",
      "Quantity                     int64\n",
      "Tax 5%                     float64\n",
      "Total                      float64\n",
      "Date                        object\n",
      "Time                        object\n",
      "Payment                     object\n",
      "cogs                       float64\n",
      "gross margin percentage    float64\n",
      "gross income               float64\n",
      "Rating                     float64\n",
      "dtype: object\n"
     ]
    }
   ],
   "source": [
    "# investigate the data types\n",
    "print(df.dtypes)"
   ]
  },
  {
   "cell_type": "code",
   "execution_count": 99,
   "id": "3654cdff",
   "metadata": {},
   "outputs": [],
   "source": [
    "df['Datetime'] = pd.to_datetime(df['Date'] + ' ' + df['Time'], format='%m/%d/%Y %H:%M')\n"
   ]
  },
  {
   "cell_type": "code",
   "execution_count": 100,
   "id": "58ec6254",
   "metadata": {},
   "outputs": [
    {
     "name": "stdout",
     "output_type": "stream",
     "text": [
      "0   2019-01-05 13:08:00\n",
      "1   2019-03-08 10:29:00\n",
      "2   2019-03-03 13:23:00\n",
      "3   2019-01-27 20:33:00\n",
      "4   2019-02-08 10:37:00\n",
      "Name: Datetime, dtype: datetime64[ns]\n"
     ]
    }
   ],
   "source": [
    "# print datetime\n",
    "print(df['Datetime'].head())"
   ]
  },
  {
   "cell_type": "code",
   "execution_count": 101,
   "id": "83084dcc",
   "metadata": {},
   "outputs": [],
   "source": [
    "# get datetime to act as row labels - useful for time-based-filtering\n",
    "df = df.set_index('Datetime')"
   ]
  },
  {
   "cell_type": "code",
   "execution_count": 102,
   "id": "b0f2ad0a",
   "metadata": {},
   "outputs": [],
   "source": [
    "# creating columns indictaing hour, day, weekday, and month useful for visualization\n",
    "df['Hour'] = df.index.hour\n",
    "df['Day'] = df.index.day\n",
    "df['Weekday'] = df.index.day_name()\n",
    "df['Month'] = df.index.month"
   ]
  },
  {
   "cell_type": "code",
   "execution_count": 103,
   "id": "d6abeb6a",
   "metadata": {},
   "outputs": [
    {
     "name": "stdout",
     "output_type": "stream",
     "text": [
      "Invoice ID                   object\n",
      "Branch                       object\n",
      "City                         object\n",
      "Customer type                object\n",
      "Gender                       object\n",
      "Product line                 object\n",
      "Unit price                  float64\n",
      "Quantity                      int64\n",
      "Tax 5%                      float64\n",
      "Total                       float64\n",
      "Date                         object\n",
      "Time                         object\n",
      "Payment                      object\n",
      "cogs                        float64\n",
      "gross margin percentage     float64\n",
      "gross income                float64\n",
      "Rating                      float64\n",
      "Hour                          int64\n",
      "Day                           int64\n",
      "Weekday                    category\n",
      "Month                         int64\n",
      "dtype: object\n"
     ]
    }
   ],
   "source": [
    "# change Weekday to categorical\n",
    "df['Weekday'] = pd.Categorical(df['Weekday'], categories=['Monday', 'Tuesday', 'Wednesday', 'Thursday', 'Friday', 'Saturday', 'Sunday'], ordered=True)\n",
    "# check the data types\n",
    "print(df.dtypes)"
   ]
  },
  {
   "cell_type": "code",
   "execution_count": 104,
   "id": "d0125f90",
   "metadata": {},
   "outputs": [],
   "source": [
    "# make sure data is in cronological order\n",
    "df = df.sort_index()"
   ]
  },
  {
   "cell_type": "code",
   "execution_count": 105,
   "id": "2740773e",
   "metadata": {},
   "outputs": [
    {
     "data": {
      "text/plain": [
       "Invoice ID                 0\n",
       "Branch                     0\n",
       "City                       0\n",
       "Customer type              0\n",
       "Gender                     0\n",
       "Product line               0\n",
       "Unit price                 0\n",
       "Quantity                   0\n",
       "Tax 5%                     0\n",
       "Total                      0\n",
       "Date                       0\n",
       "Time                       0\n",
       "Payment                    0\n",
       "cogs                       0\n",
       "gross margin percentage    0\n",
       "gross income               0\n",
       "Rating                     0\n",
       "Hour                       0\n",
       "Day                        0\n",
       "Weekday                    0\n",
       "Month                      0\n",
       "dtype: int64"
      ]
     },
     "execution_count": 105,
     "metadata": {},
     "output_type": "execute_result"
    }
   ],
   "source": [
    "# check if we have missing values\n",
    "df.isnull().sum()"
   ]
  },
  {
   "cell_type": "code",
   "execution_count": 106,
   "id": "22ee5a4d",
   "metadata": {},
   "outputs": [],
   "source": [
    "df.to_csv('data/preprocessed/cleaned_data.csv')"
   ]
  }
 ],
 "metadata": {
  "kernelspec": {
   "display_name": "base",
   "language": "python",
   "name": "python3"
  },
  "language_info": {
   "codemirror_mode": {
    "name": "ipython",
    "version": 3
   },
   "file_extension": ".py",
   "mimetype": "text/x-python",
   "name": "python",
   "nbconvert_exporter": "python",
   "pygments_lexer": "ipython3",
   "version": "3.8.5"
  }
 },
 "nbformat": 4,
 "nbformat_minor": 5
}
