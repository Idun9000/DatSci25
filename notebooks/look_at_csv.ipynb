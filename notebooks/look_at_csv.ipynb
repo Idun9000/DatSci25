{
 "cells": [
  {
   "cell_type": "code",
   "execution_count": 2,
   "id": "b3c0d96e",
   "metadata": {},
   "outputs": [],
   "source": [
    "import os\n",
    "import re\n",
    "import pandas as pd"
   ]
  },
  {
   "cell_type": "code",
   "execution_count": 3,
   "id": "e6938dcf",
   "metadata": {},
   "outputs": [],
   "source": [
    "# change working directory to the /Users/tildeidunsloth/Desktop/DatSci_25/DatSci_25/cleaned\n",
    "os.chdir('/Users/tildeidunsloth/Desktop/DatSci_25/DatSci25/data/cleaned/')"
   ]
  },
  {
   "cell_type": "code",
   "execution_count": 4,
   "id": "392254f3",
   "metadata": {},
   "outputs": [],
   "source": [
    "# load in csv file with pandas\n",
    "df = pd.read_csv('parliament_speeches.csv')"
   ]
  },
  {
   "cell_type": "code",
   "execution_count": 5,
   "id": "2f1aa530",
   "metadata": {},
   "outputs": [
    {
     "name": "stdout",
     "output_type": "stream",
     "text": [
      "   year  meeting_number                speaker  \\\n",
      "0  2013              45         Valgs Prøvelse   \n",
      "1  2013              45         Valgs Prøvelse   \n",
      "2  2013              45              Formanden   \n",
      "3  2013              45              Formanden   \n",
      "4  2013              45         Valgs Prøvelse   \n",
      "5  2013              45  Forhandling Formanden   \n",
      "6  2013              45   Afstemning Formanden   \n",
      "7  2013              45         Valgs Prøvelse   \n",
      "8  2013              45  Forhandling Formanden   \n",
      "9  2013              45   Afstemning Formanden   \n",
      "\n",
      "                                              speech  \n",
      "0  Godkendelse af stedfortræder som midlertidigt ...  \n",
      "1  Godkendelse af stedfortræder som repræsentant ...  \n",
      "2  Mødet er åbnet. I dag er der følgende anmeldel...  \n",
      "3  Anne Baastrup (SF) har søgt om orlov på grund ...  \n",
      "4  Godkendelse af stedfortræder som midlertidigt ...  \n",
      "5  Fra Udvalget til Valgs Prøvelse har jeg modtag...  \n",
      "6  Jeg slutter afstemningen. Udvalgets indstillin...  \n",
      "7  Godkendelse af stedfortræder som repræsentant ...  \n",
      "8  Fra Udvalget til Valgs Prøvelse har jeg modtag...  \n",
      "9  Jeg slutter afstemningen. Udvalgets indstillin...  \n",
      "1095130\n",
      "2020    69273\n",
      "2015    59918\n",
      "2009    59545\n",
      "2019    59398\n",
      "2023    58383\n",
      "2016    56476\n",
      "2008    50028\n",
      "2021    47908\n",
      "2011    45967\n",
      "2024    44975\n",
      "2012    44110\n",
      "2022    42998\n",
      "2017    42007\n",
      "2007    41732\n",
      "2018    39012\n",
      "2013    39001\n",
      "2014    37410\n",
      "2010    37388\n",
      "2003    35183\n",
      "2004    33149\n",
      "2006    32921\n",
      "2005    32882\n",
      "2002    31299\n",
      "2001    29146\n",
      "2000    25021\n",
      "Name: year, dtype: int64\n",
      "        year  meeting_number                       speaker  \\\n",
      "480622  2000             105                     Formanden   \n",
      "480623  2000             105                     Formanden   \n",
      "480624  2000             105                     Formanden   \n",
      "480625  2000             105                     Formanden   \n",
      "480626  2000             105  Forhandling Jan Petersen (S)   \n",
      "...      ...             ...                           ...   \n",
      "505638  2000              87               Kim Behnke (UP)   \n",
      "505639  2000              87           Lissa Mathiasen (S)   \n",
      "505640  2000              87               Kim Behnke (UP)   \n",
      "505641  2000              87          (Ole Løvig Simonsen)   \n",
      "505642  2000              87          (Ole Løvig Simonsen)   \n",
      "\n",
      "                                                   speech  \n",
      "480622  Medlem af Folketinget Frank Dahlgaard har medd...  \n",
      "480623  Medlemmer af Folketinget Kaj Stillinger (SF) o...  \n",
      "480624  Fra Udvalget til Valgs Prøvelse har jeg modtag...  \n",
      "480625  Der er en taletid for ordførerne på indtil 20 ...  \n",
      "480626  Alle mennesker hører sammen og har et ansvar f...  \n",
      "...                                                   ...  \n",
      "505638  Til ministeren: Det nemmeste havde da været ba...  \n",
      "505639  Jeg er meget enig med hr. Kim Behnke i, at det...  \n",
      "505640  Jeg takker fru Lissa Mathiasen for at have præ...  \n",
      "505641  Jeg foreslår, at lovforslaget henvises til Ret...  \n",
      "505642  Der er ikke mere på dagsordenen. Folketingets ...  \n",
      "\n",
      "[25021 rows x 4 columns]\n"
     ]
    }
   ],
   "source": [
    "# show ten first rows\n",
    "print(df.head(10))\n",
    "\n",
    "# check length of dataframe\n",
    "print(len(df))\n",
    "\n",
    "# check how many rows for each unique year\n",
    "print(df['year'].value_counts())\n",
    "\n",
    "# show rows with year 2000\n",
    "print(df[df['year'] == 2000])"
   ]
  },
  {
   "cell_type": "code",
   "execution_count": 6,
   "id": "6fee33f3",
   "metadata": {},
   "outputs": [],
   "source": [
    "# remove klima- minister from the dataframe\n",
    "pattern = r'\\bklima(?:[-,][^,\\n\\r]*?)*? *og *[^,\\n\\r]*?minister(?:en)?\\b'\n",
    "df['speech'] = df['speech'].str.replace(pattern, '', flags=re.IGNORECASE, regex=True)\n"
   ]
  },
  {
   "cell_type": "code",
   "execution_count": 7,
   "id": "fd30cf7b",
   "metadata": {},
   "outputs": [],
   "source": [
    "# make a subset of rows where the word \"klima\" appears in the speech\n",
    "klima_df = df[df['speech'].str.contains('klima', case=False, na=False)]"
   ]
  },
  {
   "cell_type": "code",
   "execution_count": 8,
   "id": "06927d92",
   "metadata": {},
   "outputs": [
    {
     "name": "stdout",
     "output_type": "stream",
     "text": [
      "16897\n",
      "      year  meeting_number                                            speaker  \\\n",
      "229   2013              45                                Christian Juhl (EL)   \n",
      "454   2013              51                       Lars Christian Lilleholt (V)   \n",
      "456   2013              51                                          Theil (S)   \n",
      "460   2013              51                             Andreas Steenberg (RV)   \n",
      "462   2013              51                                    Steen Gade (SF)   \n",
      "464   2013              51                                   Per Clausen (EL)   \n",
      "468   2013              51  Klima Energi Og Bygningsministeren (Rasmus Hel...   \n",
      "469   2013              51                                     (Bent Bøgsted)   \n",
      "895   2013              86                          Christian Friis Bach (RV)   \n",
      "1837  2013              92                  Miljøministeren (Kirsten Brosbøl)   \n",
      "\n",
      "                                                 speech  \n",
      "229   Jeg tror ikke, at de fleste arbejdere i Danmar...  \n",
      "454   Først tillykke til den nye minister med embede...  \n",
      "456   Nu er jeg jo faktisk formelt set ikke ordfører...  \n",
      "460   Også tillykke herfra til den nye , Rasmus Helv...  \n",
      "462   Tak. Som andre har fremført, er det jo en impl...  \n",
      "464   Det er jo rigtigt, som det er blevet sagt her ...  \n",
      "468   Tak for det. Jeg vil gerne takke ordførerne fo...  \n",
      "469   Tak til ministeren. Da der ikke er flere, der ...  \n",
      "895   Tak for det. I dag bliver en trist mærkedag fo...  \n",
      "1837  Jeg vil sige i forhold til det her med varslin...  \n"
     ]
    }
   ],
   "source": [
    "print(len(klima_df))\n",
    "print(klima_df.head(10))"
   ]
  },
  {
   "cell_type": "code",
   "execution_count": 9,
   "id": "f4b29224",
   "metadata": {},
   "outputs": [
    {
     "name": "stderr",
     "output_type": "stream",
     "text": [
      "<ipython-input-9-643e1546f9fc>:19: SettingWithCopyWarning: \n",
      "A value is trying to be set on a copy of a slice from a DataFrame.\n",
      "Try using .loc[row_indexer,col_indexer] = value instead\n",
      "\n",
      "See the caveats in the documentation: https://pandas.pydata.org/pandas-docs/stable/user_guide/indexing.html#returning-a-view-versus-a-copy\n",
      "  klima_df['party'] = klima_df['speaker'].apply(extract_party)\n"
     ]
    }
   ],
   "source": [
    "# extract parties\n",
    "\n",
    "# list of valid party abbreviations\n",
    "valid_parties = {\n",
    "    \"S\", \"V\", \"DD\", \"SF\", \"LA\", \"M\", \"KF\", \"EL\", \"DF\", \"RV\", \"ALT\", \n",
    "    \"BP\", \"N\", \"IA\", \"SP\", \"JF\", \"CD\", \"NB\", \"KRF\", \"FP\"\n",
    "}\n",
    "\n",
    "# Function to extract and validate party abbreviation\n",
    "def extract_party(speaker):\n",
    "    match = re.search(r'\\(([^()]+)\\)', speaker)\n",
    "    if match:\n",
    "        party = match.group(1).strip()\n",
    "        if party in valid_parties:\n",
    "            return party\n",
    "    return None\n",
    "\n",
    "# Apply to dataframe\n",
    "klima_df['party'] = klima_df['speaker'].apply(extract_party)\n",
    "\n"
   ]
  },
  {
   "cell_type": "code",
   "execution_count": 10,
   "id": "03861b12",
   "metadata": {},
   "outputs": [
    {
     "name": "stdout",
     "output_type": "stream",
     "text": [
      "2000     141\n",
      "2001     124\n",
      "2002     195\n",
      "2003     158\n",
      "2004     113\n",
      "2005     102\n",
      "2006     318\n",
      "2007     621\n",
      "2008     798\n",
      "2009    1145\n",
      "2010     369\n",
      "2011     280\n",
      "2012     275\n",
      "2013     383\n",
      "2014     344\n",
      "2015     921\n",
      "2016     745\n",
      "2017     662\n",
      "2018    1068\n",
      "2019    1613\n",
      "2020    1383\n",
      "2021    1281\n",
      "2022    1492\n",
      "2023    1411\n",
      "2024     955\n",
      "Name: year, dtype: int64\n"
     ]
    }
   ],
   "source": [
    "# count the number of times \"klima\" is mentioned per year\n",
    "klima_count_per_year = klima_df['year'].value_counts().sort_index()\n",
    "print(klima_count_per_year)"
   ]
  },
  {
   "cell_type": "code",
   "execution_count": 28,
   "id": "07f85b59",
   "metadata": {},
   "outputs": [
    {
     "data": {
      "image/png": "[encoded data removed]",
      "text/plain": [
       "<Figure size 720x432 with 1 Axes>"
      ]
     },
     "metadata": {
      "needs_background": "light"
     },
     "output_type": "display_data"
    }
   ],
   "source": [
    "# plot klima mentions per year\n",
    "import matplotlib.pyplot as plt\n",
    "\n",
    "plt.figure(figsize=(10, 6))\n",
    "plt.plot(klima_count_per_year.index, klima_count_per_year.values)\n",
    "plt.title('Yearly Frequency of Words Including \"klima\"')\n",
    "plt.xlabel('Year')\n",
    "plt.ylabel('Number of Mentions')\n",
    "plt.xticks(rotation=45)\n",
    "plt.xlim(klima_count_per_year.index.min(), klima_count_per_year.index.max())\n",
    "plt.ylim(0, klima_count_per_year.max() + 100)\n",
    "plt.legend(['Occurrences of \"klima\"'], loc='lower right', bbox_to_anchor=(1, 0.3))\n",
    "plt.grid(False)\n",
    "plt.tight_layout()\n",
    "plt.savefig('klima_occurrences.png')"
   ]
  },
  {
   "cell_type": "code",
   "execution_count": 17,
   "id": "0a64ad75",
   "metadata": {},
   "outputs": [],
   "source": [
    "# save klima_df to a new csv file\n",
    "klima_df.to_csv('klima_speeches.csv', index=False)"
   ]
  }
 ],
 "metadata": {
  "kernelspec": {
   "display_name": "base",
   "language": "python",
   "name": "python3"
  },
  "language_info": {
   "codemirror_mode": {
    "name": "ipython",
    "version": 3
   },
   "file_extension": ".py",
   "mimetype": "text/x-python",
   "name": "python",
   "nbconvert_exporter": "python",
   "pygments_lexer": "ipython3",
   "version": "3.8.5"
  }
 },
 "nbformat": 4,
 "nbformat_minor": 5
}
