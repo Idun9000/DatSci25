{
 "cells": [
  {
   "cell_type": "markdown",
   "id": "28ba541c",
   "metadata": {},
   "source": [
    "### import packages"
   ]
  },
  {
   "cell_type": "code",
   "execution_count": 128,
   "id": "b3c0d96e",
   "metadata": {},
   "outputs": [],
   "source": [
    "import os\n",
    "import re\n",
    "import pandas as pd"
   ]
  },
  {
   "cell_type": "markdown",
   "id": "9c4358f3",
   "metadata": {},
   "source": [
    "### set working directory"
   ]
  },
  {
   "cell_type": "code",
   "execution_count": 129,
   "id": "e6938dcf",
   "metadata": {},
   "outputs": [],
   "source": [
    "# change working directory to the /Users/tildeidunsloth/Desktop/DatSci_25/DatSci_25/cleaned\n",
    "os.chdir('/Users/tildeidunsloth/Desktop/DatSci_25/DatSci25/data/cleaned/')"
   ]
  },
  {
   "cell_type": "markdown",
   "id": "624aa50d",
   "metadata": {},
   "source": [
    "### load data"
   ]
  },
  {
   "cell_type": "code",
   "execution_count": 130,
   "id": "392254f3",
   "metadata": {},
   "outputs": [],
   "source": [
    "# load in csv file with pandas\n",
    "df = pd.read_csv('parliament_speeches.csv')"
   ]
  },
  {
   "cell_type": "markdown",
   "id": "15b688af",
   "metadata": {},
   "source": [
    "### inspect data"
   ]
  },
  {
   "cell_type": "code",
   "execution_count": 131,
   "id": "2f1aa530",
   "metadata": {},
   "outputs": [
    {
     "name": "stdout",
     "output_type": "stream",
     "text": [
      "   year  meeting_number                speaker  \\\n",
      "0  2013              45         Valgs Prøvelse   \n",
      "1  2013              45         Valgs Prøvelse   \n",
      "2  2013              45              Formanden   \n",
      "3  2013              45              Formanden   \n",
      "4  2013              45         Valgs Prøvelse   \n",
      "5  2013              45  Forhandling Formanden   \n",
      "6  2013              45   Afstemning Formanden   \n",
      "7  2013              45         Valgs Prøvelse   \n",
      "8  2013              45  Forhandling Formanden   \n",
      "9  2013              45   Afstemning Formanden   \n",
      "\n",
      "                                              speech  \n",
      "0  Godkendelse af stedfortræder som midlertidigt ...  \n",
      "1  Godkendelse af stedfortræder som repræsentant ...  \n",
      "2  Mødet er åbnet. I dag er der følgende anmeldel...  \n",
      "3  Anne Baastrup (SF) har søgt om orlov på grund ...  \n",
      "4  Godkendelse af stedfortræder som midlertidigt ...  \n",
      "5  Fra Udvalget til Valgs Prøvelse har jeg modtag...  \n",
      "6  Jeg slutter afstemningen. Udvalgets indstillin...  \n",
      "7  Godkendelse af stedfortræder som repræsentant ...  \n",
      "8  Fra Udvalget til Valgs Prøvelse har jeg modtag...  \n",
      "9  Jeg slutter afstemningen. Udvalgets indstillin...  \n",
      "1095130\n",
      "2020    69273\n",
      "2015    59918\n",
      "2009    59545\n",
      "2019    59398\n",
      "2023    58383\n",
      "2016    56476\n",
      "2008    50028\n",
      "2021    47908\n",
      "2011    45967\n",
      "2024    44975\n",
      "2012    44110\n",
      "2022    42998\n",
      "2017    42007\n",
      "2007    41732\n",
      "2018    39012\n",
      "2013    39001\n",
      "2014    37410\n",
      "2010    37388\n",
      "2003    35183\n",
      "2004    33149\n",
      "2006    32921\n",
      "2005    32882\n",
      "2002    31299\n",
      "2001    29146\n",
      "2000    25021\n",
      "Name: year, dtype: int64\n",
      "        year  meeting_number                       speaker  \\\n",
      "480622  2000             105                     Formanden   \n",
      "480623  2000             105                     Formanden   \n",
      "480624  2000             105                     Formanden   \n",
      "480625  2000             105                     Formanden   \n",
      "480626  2000             105  Forhandling Jan Petersen (S)   \n",
      "...      ...             ...                           ...   \n",
      "505638  2000              87               Kim Behnke (UP)   \n",
      "505639  2000              87           Lissa Mathiasen (S)   \n",
      "505640  2000              87               Kim Behnke (UP)   \n",
      "505641  2000              87          (Ole Løvig Simonsen)   \n",
      "505642  2000              87          (Ole Løvig Simonsen)   \n",
      "\n",
      "                                                   speech  \n",
      "480622  Medlem af Folketinget Frank Dahlgaard har medd...  \n",
      "480623  Medlemmer af Folketinget Kaj Stillinger (SF) o...  \n",
      "480624  Fra Udvalget til Valgs Prøvelse har jeg modtag...  \n",
      "480625  Der er en taletid for ordførerne på indtil 20 ...  \n",
      "480626  Alle mennesker hører sammen og har et ansvar f...  \n",
      "...                                                   ...  \n",
      "505638  Til ministeren: Det nemmeste havde da været ba...  \n",
      "505639  Jeg er meget enig med hr. Kim Behnke i, at det...  \n",
      "505640  Jeg takker fru Lissa Mathiasen for at have præ...  \n",
      "505641  Jeg foreslår, at lovforslaget henvises til Ret...  \n",
      "505642  Der er ikke mere på dagsordenen. Folketingets ...  \n",
      "\n",
      "[25021 rows x 4 columns]\n"
     ]
    }
   ],
   "source": [
    "# show ten first rows\n",
    "print(df.head(10))\n",
    "\n",
    "# check length of dataframe\n",
    "print(len(df))\n",
    "\n",
    "# check how many rows for each unique year\n",
    "print(df['year'].value_counts())\n",
    "\n",
    "# show rows with year 2000\n",
    "print(df[df['year'] == 2000])"
   ]
  },
  {
   "cell_type": "markdown",
   "id": "cd8bbdb9",
   "metadata": {},
   "source": [
    "### remove klimaminister from speech"
   ]
  },
  {
   "cell_type": "code",
   "execution_count": 132,
   "id": "6fee33f3",
   "metadata": {},
   "outputs": [],
   "source": [
    "# remove klima- minister from the dataframe\n",
    "pattern = r'\\bklima(?:[-,][^,\\n\\r]*?)*? *og *[^,\\n\\r]*?minister(?:en)?\\b'\n",
    "df['speech'] = df['speech'].str.replace(pattern, '', flags=re.IGNORECASE, regex=True)\n"
   ]
  },
  {
   "cell_type": "markdown",
   "id": "2c1c9734",
   "metadata": {},
   "source": [
    "### create klima subset"
   ]
  },
  {
   "cell_type": "code",
   "execution_count": 133,
   "id": "fd30cf7b",
   "metadata": {},
   "outputs": [],
   "source": [
    "# make a subset of rows where the word \"klima\" appears in the speech\n",
    "klima_df = df[df['speech'].str.contains('klima', case=False, na=False)]"
   ]
  },
  {
   "cell_type": "code",
   "execution_count": 134,
   "id": "06927d92",
   "metadata": {},
   "outputs": [
    {
     "name": "stdout",
     "output_type": "stream",
     "text": [
      "16897\n",
      "      year  meeting_number                                            speaker  \\\n",
      "229   2013              45                                Christian Juhl (EL)   \n",
      "454   2013              51                       Lars Christian Lilleholt (V)   \n",
      "456   2013              51                                          Theil (S)   \n",
      "460   2013              51                             Andreas Steenberg (RV)   \n",
      "462   2013              51                                    Steen Gade (SF)   \n",
      "464   2013              51                                   Per Clausen (EL)   \n",
      "468   2013              51  Klima Energi Og Bygningsministeren (Rasmus Hel...   \n",
      "469   2013              51                                     (Bent Bøgsted)   \n",
      "895   2013              86                          Christian Friis Bach (RV)   \n",
      "1837  2013              92                  Miljøministeren (Kirsten Brosbøl)   \n",
      "\n",
      "                                                 speech  \n",
      "229   Jeg tror ikke, at de fleste arbejdere i Danmar...  \n",
      "454   Først tillykke til den nye minister med embede...  \n",
      "456   Nu er jeg jo faktisk formelt set ikke ordfører...  \n",
      "460   Også tillykke herfra til den nye , Rasmus Helv...  \n",
      "462   Tak. Som andre har fremført, er det jo en impl...  \n",
      "464   Det er jo rigtigt, som det er blevet sagt her ...  \n",
      "468   Tak for det. Jeg vil gerne takke ordførerne fo...  \n",
      "469   Tak til ministeren. Da der ikke er flere, der ...  \n",
      "895   Tak for det. I dag bliver en trist mærkedag fo...  \n",
      "1837  Jeg vil sige i forhold til det her med varslin...  \n"
     ]
    }
   ],
   "source": [
    "print(len(klima_df))\n",
    "print(klima_df.head(10))"
   ]
  },
  {
   "cell_type": "markdown",
   "id": "def60cd1",
   "metadata": {},
   "source": [
    "### add party column"
   ]
  },
  {
   "cell_type": "code",
   "execution_count": 135,
   "id": "f4b29224",
   "metadata": {},
   "outputs": [
    {
     "name": "stderr",
     "output_type": "stream",
     "text": [
      "<ipython-input-135-bc7017e8c90c>:19: SettingWithCopyWarning: \n",
      "A value is trying to be set on a copy of a slice from a DataFrame.\n",
      "Try using .loc[row_indexer,col_indexer] = value instead\n",
      "\n",
      "See the caveats in the documentation: https://pandas.pydata.org/pandas-docs/stable/user_guide/indexing.html#returning-a-view-versus-a-copy\n",
      "  klima_df['party'] = klima_df['speaker'].apply(extract_party)\n"
     ]
    }
   ],
   "source": [
    "# extract parties\n",
    "\n",
    "# list of valid party abbreviations\n",
    "valid_parties = {\n",
    "    \"S\", \"V\", \"DD\", \"SF\", \"LA\", \"M\", \"KF\", \"EL\", \"DF\", \"RV\", \"ALT\", \n",
    "    \"BP\", \"N\", \"IA\", \"SP\", \"JF\", \"CD\", \"NB\", \"KRF\", \"FP\", \"SIU\", \"KD\"\n",
    "}\n",
    "\n",
    "# Function to extract and validate party abbreviation\n",
    "def extract_party(speaker):\n",
    "    match = re.search(r'\\(([^()]+)\\)', speaker)\n",
    "    if match:\n",
    "        party = match.group(1).strip()\n",
    "        if party in valid_parties:\n",
    "            return party\n",
    "    return None\n",
    "\n",
    "# Apply to dataframe\n",
    "klima_df['party'] = klima_df['speaker'].apply(extract_party)\n",
    "\n"
   ]
  },
  {
   "cell_type": "code",
   "execution_count": 136,
   "id": "2da01e3f",
   "metadata": {},
   "outputs": [
    {
     "name": "stdout",
     "output_type": "stream",
     "text": [
      "Statsministeren (Mette Frederiksen)                                198\n",
      "Energi Forsynings Og Klimaministeren (Lars Christian Lilleholt)    177\n",
      "Klima Energi Og Forsyningsministeren (Dan Jørgensen)               155\n",
      "Statsministeren (Lars Løkke Rasmussen)                             112\n",
      "Klima Og Energiministeren (Lykke Friis)                            111\n",
      "Klima Energi Og Forsyningsministeren (Lars Aagaard)                110\n",
      "Theresa Scavenius (UFG)                                             85\n",
      "Formanden (Pia Kjærsgaard)                                          83\n",
      "Miljøministeren (Lea Wermelin)                                      77\n",
      "Klima Og Energiministeren (Connie Hedegaard)                        74\n",
      "Afstemning Formanden (Pia Kjærsgaard)                               63\n",
      "Finansministeren (Nicolai Wammen)                                   61\n",
      "(Rasmus Prehn)                                                      60\n",
      "Susanne Zimmer (FG)                                                 55\n",
      "(Christian Juhl)                                                    53\n",
      "Formanden                                                           52\n",
      "Medspørger                                                          47\n",
      "Transportministeren (Benny Engelbrecht)                             43\n",
      "Statsministeren (Anders Fogh Rasmussen)                             43\n",
      "Sikandar Siddique (FG)                                              42\n",
      "Udenrigsministeren (Jeppe Kofod)                                    42\n",
      "(Henrik Dam Kristensen)                                             41\n",
      "Sikandar Siddique (UFG)                                             40\n",
      "(Leif Mikkelsen)                                                    38\n",
      "(Kristian Pihl Lorentzen)                                           38\n",
      "Skatteministeren (Jeppe Bruus)                                      38\n",
      "Skatteministeren (Morten Bødskov)                                   37\n",
      "Miljøministeren (Magnus Heunicke)                                   35\n",
      "Skatteministeren (Karsten Lauritzen)                                35\n",
      "(Jacob Jensen)                                                      32\n",
      "Skatteministeren (Kristian Jensen)                                  31\n",
      "Eventuelt                                                           31\n",
      "Klima Energi Og Bygningsministeren (Martin Lidegaard)               30\n",
      "Klima Energi Og Bygningsministeren (Rasmus Helveg Petersen)         29\n",
      "Finansministeren (Kristian Jensen)                                  27\n",
      "Statsministeren (Helle ThorningSchmidt)                             26\n",
      "Økonomi Og Erhvervsministeren (Bendt Bendtsen)                      26\n",
      "Erhvervsministeren (Simon Kollerup)                                 25\n",
      "Miljøministeren (Connie Hedegaard)                                  24\n",
      "Formanden (Søren Gade)                                              23\n",
      "Valgs Prøvelse                                                      23\n",
      "(Bent Bøgsted)                                                      21\n",
      "Udenrigsministeren (Per Stig Møller)                                21\n",
      "Danmark                                                             20\n",
      "Finansministeren (Claus Hjort Frederiksen)                          20\n",
      "Miljøministeren (Ida Auken)                                         20\n",
      "(Mette Bock)                                                        20\n",
      "Susanne Zimmer (UFG)                                                20\n",
      "Erhvervsministeren (Morten Bødskov)                                 19\n",
      "(Ulla Tørnæs)                                                       19\n",
      "Name: speaker, dtype: int64\n"
     ]
    }
   ],
   "source": [
    "# print unique speakers where party is Na and the amount of times they appear\n",
    "print(klima_df[klima_df['party'].isna()]['speaker'].value_counts().head(50))\n"
   ]
  },
  {
   "cell_type": "code",
   "execution_count": 137,
   "id": "c67a16c9",
   "metadata": {},
   "outputs": [
    {
     "name": "stderr",
     "output_type": "stream",
     "text": [
      "/Users/tildeidunsloth/opt/anaconda3/lib/python3.8/site-packages/pandas/core/indexing.py:1745: SettingWithCopyWarning: \n",
      "A value is trying to be set on a copy of a slice from a DataFrame.\n",
      "Try using .loc[row_indexer,col_indexer] = value instead\n",
      "\n",
      "See the caveats in the documentation: https://pandas.pydata.org/pandas-docs/stable/user_guide/indexing.html#returning-a-view-versus-a-copy\n",
      "  isetter(ilocs[0], value)\n",
      "<ipython-input-137-ac15ad01fbb4>:149: SettingWithCopyWarning: \n",
      "A value is trying to be set on a copy of a slice from a DataFrame.\n",
      "Try using .loc[row_indexer,col_indexer] = value instead\n",
      "\n",
      "See the caveats in the documentation: https://pandas.pydata.org/pandas-docs/stable/user_guide/indexing.html#returning-a-view-versus-a-copy\n",
      "  klima_df['party'] = klima_df.apply(assign_party, axis=1)\n"
     ]
    }
   ],
   "source": [
    "# Fix when party is NA\n",
    "\n",
    "# Append 'DF' if speaker is exactly '(Pia Kjærsgaard)'\n",
    "klima_df.loc[klima_df['speaker'] == \"(Pia Kjærsgaard)\", 'party'] = (\n",
    "    klima_df.loc[klima_df['speaker'] == \"(Pia Kjærsgaard)\", 'party'].fillna(\"\") + \"DF\"\n",
    ")\n",
    "# name-to-party mapping\n",
    "name_to_party = {\n",
    "    \"Mette Frederiksen\": \"S\",\n",
    "    \"Lars Christian Lilleholt\": \"V\",\n",
    "    \"Dan Jørgensen\": \"S\",\n",
    "    \"Lykke Friis\": \"V\",\n",
    "    \"Lars Aagaard\": \"M\",\n",
    "    \"Theresa Scavenius\": \"ALT\",\n",
    "    \"Lea Wermelin\": \"S\",\n",
    "    \"Connie Hedegaard\": \"KF\",\n",
    "    \"Nicolai Wammen\": \"S\",\n",
    "    \"Rasmus Prehn\": \"S\",\n",
    "    \"Susanne Zimmer\": \"ALT\",\n",
    "    \"Christian Juhl\": \"EL\",\n",
    "    \"Benny Engelbrecht\": \"S\",\n",
    "    \"Anders Fogh Rasmussen\": \"V\",\n",
    "    \"Jeppe Kofod\": \"S\",\n",
    "    \"Sikandar Siddique\": \"ALT\",\n",
    "    \"Henrik Dam Kristensen\": \"S\",\n",
    "    \"Jeppe Bruus\": \"S\",\n",
    "    \"Leif Mikkelsen\": \"LA\",\n",
    "    \"Mette Bock\": \"LA\",\n",
    "    \"Ida Auken\": \"S\",\n",
    "    \"Kristian Pihl Lorentzen\": \"V\",\n",
    "    \"Morten Bødskov\": \"S\",\n",
    "    \"Magnus Heunicke\": \"S\",\n",
    "    \"Karsten Lauritzen\": \"V\",\n",
    "    \"Jacob Jensen\": \"V\",\n",
    "    \"Kristian Jensen\": \"V\",\n",
    "    \"Martin Lidegaard\": \"RV\",\n",
    "    \"Rasmus Helveg Petersen\": \"RV\",\n",
    "    \"Bendt Bendtsen\": \"KF\",\n",
    "    \"Helle ThorningSchmidt\": \"S\",\n",
    "    \"Helle Thorning Schmidt\": \"S\",\n",
    "    \"Simon Kollerup\": \"S\",\n",
    "    \"Søren Gade\": \"V\",\n",
    "    \"Bent Bøgsted\": \"DD\",\n",
    "    \"Per Stig Møller\": \"KF\",\n",
    "    \"Claus Hjort Frederiksen\": \"V\",\n",
    "    \"Susanne Zimmer\": \"ALT\",\n",
    "    \"Ulla Tørnæs\": \"V\",\n",
    "    \"Søren Espersen\": \"DD\",\n",
    "    \"Erling Bonnesen\": \"V\",\n",
    "    \"Hans Christian Schmidt\": \"V\",\n",
    "    \"Lene Espersen\": \"KF\",\n",
    "    \"Karina Adsbøl\": \"DD\",\n",
    "    \"Thomas Danielsen\": \"V\",\n",
    "    \"Trine Torp\": \"SF\",\n",
    "    \"Kirsten Brosbøl\": \"S\",\n",
    "    \"Lars Barfoed\": \"KF\",\n",
    "    \"Karsten Hønge\": \"SF\",\n",
    "    \"Esben Lunde Larsen\": \"V\",\n",
    "    \"Svend Auken\": \"S\",\n",
    "    \"Jeppe Søe\": \"M\",\n",
    "    \"Karen Ellemann\": \"V\",\n",
    "    \"Jakob EllemannJensen\": \"V\",\n",
    "    \"Jakob Ellemann Jensen\": \"V\",\n",
    "    \"Helge Adam Møller\": \"KF\",\n",
    "    \"Mogens Jensen\": \"S\",\n",
    "    \"Bjarne Laustsen\": \"S\",\n",
    "    \"Ole Birk Olesen\": \"LA\",\n",
    "    \"Leif Lahn Jensen\": \"S\",\n",
    "    \"Anders Samuelsen\": \"LA\",\n",
    "    \"Flemming Hansen\": \"KF\",\n",
    "    \"Brian Mikkelsen\": \"KF\",\n",
    "    \"Peter Hummelgaard\": \"S\",\n",
    "    \"Troels Lund Poulsen\": \"V\",\n",
    "    \"Mogens Lykketoft\": \"S\",\n",
    "    \"Stine Brix\": \"EL\",\n",
    "    \"Ole Sohn\": \"S\",\n",
    "    \"Morten Dahlin\": \"V\",\n",
    "    \"Uffe Elbæk\": \"ALT\",\n",
    "    \"Eva Kjer Hansen\": \"V\",\n",
    "    \"Louise Schack Elholm\": \"V\",\n",
    "    \"Annette Lind\": \"S\",\n",
    "    \"Thor Pedersen\": \"V\",\n",
    "    \"Henrik Høegh\": \"V\",\n",
    "    \"Carina Christensen\": \"KF\",\n",
    "    \"Rasmus Jarlov\": \"KF\",\n",
    "    \"Søren Pind\": \"V\",\n",
    "    \"Bjarne Corydon\": \"S\",\n",
    "    \"Rasmus Stoklund\": \"S\",\n",
    "    \"Poul Nyrup Rasmussen\": \"S\",\n",
    "    \"Pernille RosenkrantzTheil\": \"S\",\n",
    "    \"Pernille Rosenkrantz Theil\": \"S\",\n",
    "    \"Ellen Trane Nørby\": \"V\",\n",
    "    \"Camilla Hersom\": \"RV\",\n",
    "    \"Henrik Sass Larsen\": \"S\",\n",
    "    \"Mattias Tesfaye\": \"S\",\n",
    "    \"Birgitte Vind\": \"S\",\n",
    "    \"Stephanie Lose\": \"V\",\n",
    "    \"Kaare Dybvad\": \"S\",\n",
    "    \"Bertel Haarder\": \"V\",\n",
    "    \"Jakob Axel Nielsen\": \"KF\",\n",
    "    \"Flemming Møller Mortensen\": \"S\",\n",
    "    \"Trine Bramsen\": \"S\",\n",
    "    \"Ane HalsboeJørgensen\": \"S\",\n",
    "    \"Ane Halsboe Jørgensen\": \"S\",\n",
    "    \"Villy Søvndal\": \"SF\",\n",
    "    \"Anne Grete Holmsgaard\": \"SF\",\n",
    "    \"Carsten Hansen\": \"S\",\n",
    "    \"Jon Stephensen\": \"M\",\n",
    "    \"Torsten Schack Pedersen\": \"V\",\n",
    "    \"Helge Sander\": \"V\",\n",
    "    \"Morten Østergaard\": \"RV\",\n",
    "    \"Per Clausen\": \"EL\",\n",
    "    \"Merete Riisager\": \"LA\",\n",
    "    \"Manu Sareen\": \"RV\",\n",
    "    \"Christian Brask\": \"LA\",\n",
    "    \"Joy Mogensen\": \"S\",\n",
    "    \"Holger K. Nielsen\": \"SF\",\n",
    "    \"Christine Antorini\": \"S\",\n",
    "    \"Inger Støjberg\": \"DD\",\n",
    "    \"Annette Vilhelmsen\": \"SF\",\n",
    "    \"Nick Hækkerup\": \"S\",\n",
    "    \"Niels Helveg Petersen\": \"RV\",\n",
    "    \"Ole Løvig Simonsen\": \"S\",\n",
    "    \"Mike Villa Fonseca\": \"M\",\n",
    "    \"Christian Friis Bach\": \"V\",\n",
    "    \"Jens Vibjerg\": \"V\",\n",
    "    \"Lone Loklindt\": \"RV\",\n",
    "    \"Hans Kristian Skibby\": \"DD\"\n",
    "}\n",
    "\n",
    "def assign_party(row):\n",
    "    if pd.notna(row['party']):\n",
    "        return row['party']\n",
    "    \n",
    "    speaker = str(row['speaker'])\n",
    "    year = row['year']\n",
    "\n",
    "    # Special rule for Lars Løkke Rasmussen depending on year\n",
    "    if \"Lars Løkke Rasmussen\" in speaker:\n",
    "        return \"V\" if year <= 2022 else \"M\"\n",
    "    \n",
    "    # General rule: if any name in mapping is in the speaker string\n",
    "    for name, party in name_to_party.items():\n",
    "        if name in speaker:\n",
    "            return party\n",
    "\n",
    "    return pd.NA  # If no match found\n",
    "\n",
    "klima_df['party'] = klima_df.apply(assign_party, axis=1)"
   ]
  },
  {
   "cell_type": "code",
   "execution_count": 138,
   "id": "1e01e9fe",
   "metadata": {},
   "outputs": [
    {
     "name": "stdout",
     "output_type": "stream",
     "text": [
      "Formanden (Pia Kjærsgaard)                83\n",
      "Afstemning Formanden (Pia Kjærsgaard)     63\n",
      "Formanden                                 52\n",
      "Medspørger                                47\n",
      "Eventuelt                                 31\n",
      "Valgs Prøvelse                            23\n",
      "Danmark                                   20\n",
      "Lars Boje Mathiesen (UFG)                 18\n",
      "Forhandling Formanden (Pia Kjærsgaard)    17\n",
      "Næstformand                               17\n",
      "Høgni Hoydal (TF)                         15\n",
      "Klint)                                    14\n",
      "Igen                                      12\n",
      "Venstre                                   11\n",
      "Afstemning Formanden                      10\n",
      "Nielsen)                                   9\n",
      "Altså                                      7\n",
      "(Formanden                                 7\n",
      "Magni Arge (T)                             7\n",
      "Folketinget                                6\n",
      "Det Konservative Folkeparti                5\n",
      "Enhedslisten                               5\n",
      "Moderaterne                                5\n",
      "Schmidt)                                   4\n",
      "Bille (UFG)                                4\n",
      "Aleqa Hammond (UFG)                        3\n",
      "Politiken                                  3\n",
      "Dansk Folkeparti                           3\n",
      "Fransgaard (UP)                            3\n",
      "Radikale Venstre                           3\n",
      "Socialdemokratiet                          3\n",
      "Folketingssalen                            3\n",
      "Erhvervsministeriet                        3\n",
      "Det Radikale Venstre                       3\n",
      "Forhandling Formanden                      3\n",
      "Derfor                                     3\n",
      "Liberal Alliance                           3\n",
      "Aleqa Hammond (NQ)                         3\n",
      "Hansen (UFG)                               2\n",
      "Christiansborg                             2\n",
      "Sundhedsministeriet                        2\n",
      "De Konservative                            2\n",
      "Først                                      2\n",
      "Miljøministeriet                           2\n",
      "Jacobsen (T)                               2\n",
      "Facebook                                   2\n",
      "Sundhedsministeren (Arne Rolighed)         2\n",
      "Rusland                                    2\n",
      "Alternativet                               2\n",
      "Nielsen                                    2\n",
      "Name: speaker, dtype: int64\n"
     ]
    }
   ],
   "source": [
    "# print unique speakers where party is Na and the amount of times they appear\n",
    "print(klima_df[klima_df['party'].isna()]['speaker'].value_counts().head(50))"
   ]
  },
  {
   "cell_type": "code",
   "execution_count": 139,
   "id": "20d50464",
   "metadata": {},
   "outputs": [],
   "source": [
    "# remove rows where party is Na\n",
    "klima_df = klima_df[~klima_df['party'].isna()]"
   ]
  },
  {
   "cell_type": "code",
   "execution_count": 140,
   "id": "01363a74",
   "metadata": {},
   "outputs": [
    {
     "name": "stdout",
     "output_type": "stream",
     "text": [
      "16108\n"
     ]
    }
   ],
   "source": [
    "# count rows\n",
    "print(len(klima_df))"
   ]
  },
  {
   "cell_type": "markdown",
   "id": "96311016",
   "metadata": {},
   "source": [
    "### creating klima count plot"
   ]
  },
  {
   "cell_type": "code",
   "execution_count": 141,
   "id": "03861b12",
   "metadata": {},
   "outputs": [
    {
     "name": "stdout",
     "output_type": "stream",
     "text": [
      "year\n",
      "2000     206\n",
      "2001     186\n",
      "2002     299\n",
      "2003     205\n",
      "2004     150\n",
      "2005      93\n",
      "2006     571\n",
      "2007    1276\n",
      "2008    1420\n",
      "2009    2634\n",
      "2010     710\n",
      "2011     435\n",
      "2012     396\n",
      "2013     862\n",
      "2014     533\n",
      "2015    1572\n",
      "2016    1356\n",
      "2017    1175\n",
      "2018    2679\n",
      "2019    3457\n",
      "2020    3016\n",
      "2021    2988\n",
      "2022    3373\n",
      "2023    2827\n",
      "2024    2202\n",
      "Name: speech, dtype: int64\n"
     ]
    }
   ],
   "source": [
    "# Count all mentions of \"klima\" (including as part of compound words)\n",
    "klima_all_mentions_per_year = klima_df['speech'].str.count(r'\\bklima\\w*', flags=re.IGNORECASE).groupby(klima_df['year']).sum()\n",
    "print(klima_all_mentions_per_year)\n"
   ]
  },
  {
   "cell_type": "code",
   "execution_count": 142,
   "id": "40797c79",
   "metadata": {},
   "outputs": [
    {
     "name": "stdout",
     "output_type": "stream",
     "text": [
      "year\n",
      "2000     64\n",
      "2001     24\n",
      "2002     41\n",
      "2003     29\n",
      "2004     43\n",
      "2005     34\n",
      "2006     80\n",
      "2007    300\n",
      "2008    385\n",
      "2009    483\n",
      "2010    169\n",
      "2011    154\n",
      "2012    110\n",
      "2013    230\n",
      "2014    151\n",
      "2015    327\n",
      "2016    269\n",
      "2017    225\n",
      "2018    433\n",
      "2019    635\n",
      "2020    632\n",
      "2021    556\n",
      "2022    736\n",
      "2023    599\n",
      "2024    407\n",
      "Name: speech, dtype: int64\n"
     ]
    }
   ],
   "source": [
    "# Count exact mentions of \"klima\" or \"klimaet\" (not part of longer words)\n",
    "klimaet_count_per_year_exact = klima_df['speech'].str.count(r'\\bklima(et)?\\b', flags=re.IGNORECASE).groupby(klima_df['year']).sum()\n",
    "print(klimaet_count_per_year_exact)"
   ]
  },
  {
   "cell_type": "code",
   "execution_count": 143,
   "id": "de5afaf6",
   "metadata": {},
   "outputs": [
    {
     "name": "stdout",
     "output_type": "stream",
     "text": [
      "year\n",
      "2000     142\n",
      "2001     162\n",
      "2002     258\n",
      "2003     176\n",
      "2004     107\n",
      "2005      59\n",
      "2006     491\n",
      "2007     976\n",
      "2008    1034\n",
      "2009    2151\n",
      "2010     541\n",
      "2011     281\n",
      "2012     286\n",
      "2013     632\n",
      "2014     382\n",
      "2015    1245\n",
      "2016    1087\n",
      "2017     949\n",
      "2018    2246\n",
      "2019    2822\n",
      "2020    2384\n",
      "2021    2432\n",
      "2022    2637\n",
      "2023    2227\n",
      "2024    1795\n",
      "Name: speech, dtype: int64\n"
     ]
    }
   ],
   "source": [
    "# Count compound words that start with \"klima\" but are not just \"klima\" or \"klimaet\"\n",
    "compound_klima_count_per_year = klima_df['speech'].str.count(r'\\bklima(?!et\\b)[a-zæøå]+', flags=re.IGNORECASE).groupby(klima_df['year']).sum()\n",
    "print(compound_klima_count_per_year)"
   ]
  },
  {
   "cell_type": "code",
   "execution_count": 144,
   "id": "12ff1f8c",
   "metadata": {},
   "outputs": [
    {
     "data": {
      "image/png": "[encoded data removed]",
      "text/plain": [
       "<Figure size 720x432 with 1 Axes>"
      ]
     },
     "metadata": {
      "needs_background": "light"
     },
     "output_type": "display_data"
    }
   ],
   "source": [
    "import matplotlib.pyplot as plt\n",
    "\n",
    "# Create the plot\n",
    "plt.figure(figsize=(10, 6))\n",
    "\n",
    "# Plot each series\n",
    "plt.plot(klima_all_mentions_per_year.index, klima_all_mentions_per_year.values, label='All Mentions of \"klima\"', color='#2191FB')\n",
    "plt.plot(klimaet_count_per_year_exact.index, klimaet_count_per_year_exact.values, label='Exact \"klima\" or \"klimaet\"', color='#748E54')\n",
    "plt.plot(compound_klima_count_per_year.index, compound_klima_count_per_year.values, label='Compound \"klima\" Words', color='#A31621')\n",
    "\n",
    "# Add vertical lines and annotations\n",
    "plt.axvline(x=2009, color='gray', linestyle='--', linewidth=1)\n",
    "plt.text(2009 + 0.2, plt.ylim()[1], 'COP15 Copenhagen', rotation=90, verticalalignment='top', color='#5C4033')\n",
    "\n",
    "plt.axvline(x=2019, color='gray', linestyle='--', linewidth=1)\n",
    "plt.text(2019 + 0.2, plt.ylim()[1]*0.6, 'The Climate Election', rotation=90, verticalalignment='top', color='#5C4033')\n",
    "\n",
    "\n",
    "# Customize the plot\n",
    "plt.title('Mentions of \"klima\" over Time', fontsize=16)\n",
    "plt.xlabel('Year', fontsize=12)\n",
    "plt.ylabel('Count of Mentions', fontsize=12)\n",
    "plt.legend()\n",
    "plt.grid(False)\n",
    "\n",
    "# Show the plot\n",
    "plt.xticks(rotation=45)\n",
    "plt.tight_layout()\n",
    "plt.show()\n"
   ]
  },
  {
   "cell_type": "markdown",
   "id": "105d8025",
   "metadata": {},
   "source": [
    "### save klima_df as csv"
   ]
  },
  {
   "cell_type": "code",
   "execution_count": 146,
   "id": "c1882fc0",
   "metadata": {},
   "outputs": [],
   "source": [
    "klima_df = klima_df[[\"year\", \"meeting_number\", \"speaker\", \"party\", \"speech\"]]"
   ]
  },
  {
   "cell_type": "code",
   "execution_count": 147,
   "id": "0a64ad75",
   "metadata": {},
   "outputs": [],
   "source": [
    "# save klima_df to a new csv file\n",
    "klima_df.to_csv('klima_speeches.csv', index=False)"
   ]
  }
 ],
 "metadata": {
  "kernelspec": {
   "display_name": "base",
   "language": "python",
   "name": "python3"
  },
  "language_info": {
   "codemirror_mode": {
    "name": "ipython",
    "version": 3
   },
   "file_extension": ".py",
   "mimetype": "text/x-python",
   "name": "python",
   "nbconvert_exporter": "python",
   "pygments_lexer": "ipython3",
   "version": "3.8.5"
  }
 },
 "nbformat": 4,
 "nbformat_minor": 5
}
